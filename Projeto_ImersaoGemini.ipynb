{
  "nbformat": 4,
  "nbformat_minor": 0,
  "metadata": {
    "colab": {
      "provenance": [],
      "include_colab_link": true
    },
    "kernelspec": {
      "name": "python3",
      "display_name": "Python 3"
    },
    "language_info": {
      "name": "python"
    }
  },
  "cells": [
    {
      "cell_type": "markdown",
      "metadata": {
        "id": "view-in-github",
        "colab_type": "text"
      },
      "source": [
        "<a href=\"https://colab.research.google.com/github/lucianaa/ImersaoIA/blob/main/Projeto_ImersaoGemini.ipynb\" target=\"_parent\"><img src=\"https://colab.research.google.com/assets/colab-badge.svg\" alt=\"Open In Colab\"/></a>"
      ]
    },
    {
      "cell_type": "markdown",
      "source": [
        "# Instalação, módulos usados e chave secreta"
      ],
      "metadata": {
        "id": "Qe_1VRyu-GhF"
      }
    },
    {
      "cell_type": "code",
      "execution_count": 1,
      "metadata": {
        "colab": {
          "base_uri": "https://localhost:8080/",
          "height": 0
        },
        "id": "Rd7VgnXaxH-X",
        "outputId": "35cbe76a-11ee-4c31-dc64-c17cefaf5456"
      },
      "outputs": [
        {
          "output_type": "stream",
          "name": "stdout",
          "text": [
            "Collecting PyPDF2\n",
            "  Downloading pypdf2-3.0.1-py3-none-any.whl (232 kB)\n",
            "\u001b[2K     \u001b[90m━━━━━━━━━━━━━━━━━━━━━━━━━━━━━━━━━━━━━━━━\u001b[0m \u001b[32m232.6/232.6 kB\u001b[0m \u001b[31m3.7 MB/s\u001b[0m eta \u001b[36m0:00:00\u001b[0m\n",
            "\u001b[?25hInstalling collected packages: PyPDF2\n",
            "Successfully installed PyPDF2-3.0.1\n"
          ]
        }
      ],
      "source": [
        "#instalação manual se necessario\n",
        "!pip install -U -q google-generativeai\n",
        "!pip install PyPDF2"
      ]
    },
    {
      "cell_type": "code",
      "source": [
        "#módulos utillizados\n",
        "from IPython.display import display\n",
        "from IPython.display import Markdown\n",
        "import pathlib\n",
        "import textwrap\n",
        "import pandas as pd\n",
        "import numpy as np\n",
        "import requests\n",
        "import PyPDF2\n",
        "import google.generativeai as genai\n",
        "from google.colab import userdata"
      ],
      "metadata": {
        "id": "yz5i1WPfxJGn"
      },
      "execution_count": 4,
      "outputs": []
    },
    {
      "cell_type": "code",
      "source": [
        "#incluindo key\n",
        "key = userdata.get('KEY')\n",
        "genai.configure(api_key=key)"
      ],
      "metadata": {
        "id": "oauv3PzZxboJ"
      },
      "execution_count": 5,
      "outputs": []
    },
    {
      "cell_type": "markdown",
      "source": [
        "# Escolha do modelo"
      ],
      "metadata": {
        "id": "CgNqqygk_BTj"
      }
    },
    {
      "cell_type": "code",
      "source": [
        "for m in genai.list_models():\n",
        "  if 'embedContent' in m.supported_generation_methods:\n",
        "    print(m.name)"
      ],
      "metadata": {
        "colab": {
          "base_uri": "https://localhost:8080/",
          "height": 52
        },
        "id": "bwp9jh93-5XG",
        "outputId": "8ecf53be-50ec-4d7e-8a5c-c1b32597e76c"
      },
      "execution_count": 6,
      "outputs": [
        {
          "output_type": "stream",
          "name": "stdout",
          "text": [
            "models/embedding-001\n",
            "models/text-embedding-004\n"
          ]
        }
      ]
    },
    {
      "cell_type": "code",
      "source": [
        "model='models/embedding-001'"
      ],
      "metadata": {
        "id": "sUiauX2V_HGT"
      },
      "execution_count": 39,
      "outputs": []
    },
    {
      "cell_type": "markdown",
      "source": [
        "\n",
        "\n",
        "# Funções utilizadas\n"
      ],
      "metadata": {
        "id": "GGE7PFsi9ti7"
      }
    },
    {
      "cell_type": "code",
      "source": [
        "#funções úteius\n",
        "def to_markdown(text):\n",
        "  text = text.replace('•', '  *')\n",
        "  return Markdown(textwrap.indent(text, '> ', predicate=lambda _: True))\n",
        "\n",
        "def embed_fn(title, text):\n",
        "  model = \"models/embedding-001\"\n",
        "  return genai.embed_content(model=model,\n",
        "                               content=text,\n",
        "                               title=title,\n",
        "                               task_type=\"RETRIEVAL_DOCUMENT\")[\"embedding\"]\n",
        "\n",
        "# Definindo a função para gerar e buscar a consulta\n",
        "def gerar_e_buscar_consulta(consulta, base, model):\n",
        "    embedding_da_consulta = genai.embed_content(model=model,\n",
        "                                               content=consulta,\n",
        "                                               task_type=\"RETRIEVAL_QUERY\")[\"embedding\"]\n",
        "    produtos_escalares = np.dot(np.stack(base[\"Embeddings\"]), embedding_da_consulta)\n",
        "    indice = np.argmax(produtos_escalares)\n",
        "    return base.iloc[indice][\"Conteudo\"]\n",
        "\n",
        "def formatar_texto(trecho, model):\n",
        "  prompt = f\"Reescreva esse texto de corrigindo as palavras que estão separadas, além disso retire números e caracteres especiais fora do contexto, sem adicionar informações que não façam parte do texto: {trecho}\"\n",
        "\n",
        "  response = model.generate_content(prompt)\n",
        "  return response"
      ],
      "metadata": {
        "id": "0LoU0YhjxLWZ"
      },
      "execution_count": 8,
      "outputs": []
    },
    {
      "cell_type": "markdown",
      "source": [
        "# Baixando documento PDF de uma URL"
      ],
      "metadata": {
        "id": "JvZRTtj8-NuZ"
      }
    },
    {
      "cell_type": "code",
      "source": [
        "#exemplo: https://documento.ifnmg.edu.br/action.php?kt_path_info=ktcore.actions.document.view&fDocumentId=54935\n",
        "import io\n",
        "from urllib.request import Request, urlopen\n",
        "from PyPDF2 import PdfReader\n",
        "\n",
        "url = \"https://documento.ifnmg.edu.br/action.php?kt_path_info=ktcore.actions.document.view&fDocumentId=54935\"\n",
        "headers = {'User-Agent': 'Mozilla/5.0 (X11; Windows; Windows x86_64) AppleWebKit/537.36 (KHTML, like Gecko) Chrome/103.0.5060.114 Safari/537.36'}\n",
        "\n",
        "response = requests.get(url=url, headers=headers, timeout=120)\n",
        "memory_file = io.BytesIO(response.content)\n",
        "#print(response.content)\n",
        "pdf_file = PdfReader(memory_file)"
      ],
      "metadata": {
        "id": "2rBR3AZDxezR",
        "collapsed": true
      },
      "execution_count": 55,
      "outputs": []
    },
    {
      "cell_type": "markdown",
      "source": [
        "# Lendo cada página do PDF e adicionando em um vetor de conteúdo e título para ser adicionado a um dataframe"
      ],
      "metadata": {
        "id": "nfJuk9Mi-XBF"
      }
    },
    {
      "cell_type": "code",
      "source": [
        "# Configuração de geração\n",
        "generation_config = {\n",
        "    \"temperature\": 0.5,\n",
        "    \"candidate_count\": 1\n",
        "}\n",
        "\n",
        "model2 = genai.GenerativeModel(\"gemini-1.0-pro\", generation_config=generation_config)\n",
        "\n",
        "# Iterar pelas páginas e extrair o texto\n",
        "all_pages_text = []\n",
        "titles = []\n",
        "for page_number in range(len(pdf_file.pages)):\n",
        "  page = pdf_file.pages[page_number]\n",
        "  text = page.extract_text ()\n",
        "  text_response = formatar_texto(text, model2)\n",
        "  all_pages_text.append(text)\n",
        "  titles.append(\"Página \" + str(page_number + 1))\n",
        "\n",
        "#Caso queira mostrar cada página, descomente a linha abaixo\n",
        "#print(all_pages_text)"
      ],
      "metadata": {
        "collapsed": true,
        "id": "QkbKypdH6F0g"
      },
      "execution_count": 56,
      "outputs": []
    },
    {
      "cell_type": "markdown",
      "source": [
        "# Manipulação do dataframe a partir do documento PDF e criando os embeddings relativo a cada linha/página"
      ],
      "metadata": {
        "id": "l9pVkyVs-kvF"
      }
    },
    {
      "cell_type": "code",
      "source": [
        "df = pd.DataFrame({'Titulo': titles, 'Conteudo': all_pages_text})\n",
        "# Aplicando a função embed_fn ao DataFrame\n",
        "df[\"Embeddings\"] = df.apply(lambda row: embed_fn(row[\"Titulo\"], row[\"Conteudo\"]), axis=1)\n",
        "df"
      ],
      "metadata": {
        "colab": {
          "base_uri": "https://localhost:8080/",
          "height": 457
        },
        "collapsed": true,
        "id": "D52-RGcY7JSR",
        "outputId": "85ab1340-6805-4e27-cdb7-d22ddf73bf5d"
      },
      "execution_count": 33,
      "outputs": [
        {
          "output_type": "execute_result",
          "data": {
            "text/plain": [
              "       Titulo                                           Conteudo  \\\n",
              "0    Página 1  Minis tério da E ducação\\nSecr etaria de E duc...   \n",
              "1    Página 2   \\n \\n \\nCAMPUS ARA CUAÍ\\n \\nCódigoCursos\\nsup...   \n",
              "2    Página 3   \\nCódigoCursos\\nsuperioresAutorização /\\nReco...   \n",
              "3    Página 4   \\nCódigoCursos\\nsuperioresAutorização /\\nReco...   \n",
              "4    Página 5  3.2.1. Sa \u0000sfazer todas as c ondiç ões do pr e...   \n",
              "5    Página 6  5.2. Após  a divulg ação da relação preliminar...   \n",
              "6    Página 7  8.1.2.1 Para os ﬁns do dispos to no item 8.1.2...   \n",
              "7    Página 8  e) Para candida tos que concorrem na modalidad...   \n",
              "8    Página 9  10.3.3. As cópias desses documen tos podem ser...   \n",
              "9   Página 10  14.4.1. Caso necessário , por interesse do IFN...   \n",
              "10  Página 11   \\n17. DO RE SULTADO DO PR OCESSO DE HETER OID...   \n",
              "11  Página 12  19.6. Os  documen tos supr acitados deverão se...   \n",
              "12  Página 13   \\n \\n \\n \\n \\n \\n \\n \\n \\n \\n \\n \\n \\n \\n \\n ...   \n",
              "\n",
              "                                           Embeddings  \n",
              "0   [0.021161817, -0.027249038, -0.025559682, 0.01...  \n",
              "1   [0.02475441, -0.03806406, -0.040256873, -0.001...  \n",
              "2   [0.013009609, -0.043040063, -0.04180947, 0.016...  \n",
              "3   [0.00892145, -0.042443924, -0.04696371, 0.0367...  \n",
              "4   [0.015021474, -0.034581374, -0.05251509, 0.024...  \n",
              "5   [0.032785352, -0.058065798, -0.058842566, 0.03...  \n",
              "6   [0.03065155, -0.051423233, -0.049242962, 0.032...  \n",
              "7   [-0.009143898, -0.046289995, -0.049015082, 0.0...  \n",
              "8   [0.006190931, -0.024917925, -0.040336464, 0.02...  \n",
              "9   [0.020378653, -0.05476258, -0.043165788, 0.035...  \n",
              "10  [0.010946043, -0.04406435, -0.073401995, 0.032...  \n",
              "11  [0.007089963, -0.051616192, -0.031471338, 0.03...  \n",
              "12  [0.02328229, 0.015821243, -0.055456575, 0.0167...  "
            ],
            "text/html": [
              "\n",
              "  <div id=\"df-1f853a46-fae3-46e1-841a-b6b5d57a5e6e\" class=\"colab-df-container\">\n",
              "    <div>\n",
              "<style scoped>\n",
              "    .dataframe tbody tr th:only-of-type {\n",
              "        vertical-align: middle;\n",
              "    }\n",
              "\n",
              "    .dataframe tbody tr th {\n",
              "        vertical-align: top;\n",
              "    }\n",
              "\n",
              "    .dataframe thead th {\n",
              "        text-align: right;\n",
              "    }\n",
              "</style>\n",
              "<table border=\"1\" class=\"dataframe\">\n",
              "  <thead>\n",
              "    <tr style=\"text-align: right;\">\n",
              "      <th></th>\n",
              "      <th>Titulo</th>\n",
              "      <th>Conteudo</th>\n",
              "      <th>Embeddings</th>\n",
              "    </tr>\n",
              "  </thead>\n",
              "  <tbody>\n",
              "    <tr>\n",
              "      <th>0</th>\n",
              "      <td>Página 1</td>\n",
              "      <td>Minis tério da E ducação\\nSecr etaria de E duc...</td>\n",
              "      <td>[0.021161817, -0.027249038, -0.025559682, 0.01...</td>\n",
              "    </tr>\n",
              "    <tr>\n",
              "      <th>1</th>\n",
              "      <td>Página 2</td>\n",
              "      <td>\\n \\n \\nCAMPUS ARA CUAÍ\\n \\nCódigoCursos\\nsup...</td>\n",
              "      <td>[0.02475441, -0.03806406, -0.040256873, -0.001...</td>\n",
              "    </tr>\n",
              "    <tr>\n",
              "      <th>2</th>\n",
              "      <td>Página 3</td>\n",
              "      <td>\\nCódigoCursos\\nsuperioresAutorização /\\nReco...</td>\n",
              "      <td>[0.013009609, -0.043040063, -0.04180947, 0.016...</td>\n",
              "    </tr>\n",
              "    <tr>\n",
              "      <th>3</th>\n",
              "      <td>Página 4</td>\n",
              "      <td>\\nCódigoCursos\\nsuperioresAutorização /\\nReco...</td>\n",
              "      <td>[0.00892145, -0.042443924, -0.04696371, 0.0367...</td>\n",
              "    </tr>\n",
              "    <tr>\n",
              "      <th>4</th>\n",
              "      <td>Página 5</td>\n",
              "      <td>3.2.1. Sa \u0000sfazer todas as c ondiç ões do pr e...</td>\n",
              "      <td>[0.015021474, -0.034581374, -0.05251509, 0.024...</td>\n",
              "    </tr>\n",
              "    <tr>\n",
              "      <th>5</th>\n",
              "      <td>Página 6</td>\n",
              "      <td>5.2. Após  a divulg ação da relação preliminar...</td>\n",
              "      <td>[0.032785352, -0.058065798, -0.058842566, 0.03...</td>\n",
              "    </tr>\n",
              "    <tr>\n",
              "      <th>6</th>\n",
              "      <td>Página 7</td>\n",
              "      <td>8.1.2.1 Para os ﬁns do dispos to no item 8.1.2...</td>\n",
              "      <td>[0.03065155, -0.051423233, -0.049242962, 0.032...</td>\n",
              "    </tr>\n",
              "    <tr>\n",
              "      <th>7</th>\n",
              "      <td>Página 8</td>\n",
              "      <td>e) Para candida tos que concorrem na modalidad...</td>\n",
              "      <td>[-0.009143898, -0.046289995, -0.049015082, 0.0...</td>\n",
              "    </tr>\n",
              "    <tr>\n",
              "      <th>8</th>\n",
              "      <td>Página 9</td>\n",
              "      <td>10.3.3. As cópias desses documen tos podem ser...</td>\n",
              "      <td>[0.006190931, -0.024917925, -0.040336464, 0.02...</td>\n",
              "    </tr>\n",
              "    <tr>\n",
              "      <th>9</th>\n",
              "      <td>Página 10</td>\n",
              "      <td>14.4.1. Caso necessário , por interesse do IFN...</td>\n",
              "      <td>[0.020378653, -0.05476258, -0.043165788, 0.035...</td>\n",
              "    </tr>\n",
              "    <tr>\n",
              "      <th>10</th>\n",
              "      <td>Página 11</td>\n",
              "      <td>\\n17. DO RE SULTADO DO PR OCESSO DE HETER OID...</td>\n",
              "      <td>[0.010946043, -0.04406435, -0.073401995, 0.032...</td>\n",
              "    </tr>\n",
              "    <tr>\n",
              "      <th>11</th>\n",
              "      <td>Página 12</td>\n",
              "      <td>19.6. Os  documen tos supr acitados deverão se...</td>\n",
              "      <td>[0.007089963, -0.051616192, -0.031471338, 0.03...</td>\n",
              "    </tr>\n",
              "    <tr>\n",
              "      <th>12</th>\n",
              "      <td>Página 13</td>\n",
              "      <td>\\n \\n \\n \\n \\n \\n \\n \\n \\n \\n \\n \\n \\n \\n \\n ...</td>\n",
              "      <td>[0.02328229, 0.015821243, -0.055456575, 0.0167...</td>\n",
              "    </tr>\n",
              "  </tbody>\n",
              "</table>\n",
              "</div>\n",
              "    <div class=\"colab-df-buttons\">\n",
              "\n",
              "  <div class=\"colab-df-container\">\n",
              "    <button class=\"colab-df-convert\" onclick=\"convertToInteractive('df-1f853a46-fae3-46e1-841a-b6b5d57a5e6e')\"\n",
              "            title=\"Convert this dataframe to an interactive table.\"\n",
              "            style=\"display:none;\">\n",
              "\n",
              "  <svg xmlns=\"http://www.w3.org/2000/svg\" height=\"24px\" viewBox=\"0 -960 960 960\">\n",
              "    <path d=\"M120-120v-720h720v720H120Zm60-500h600v-160H180v160Zm220 220h160v-160H400v160Zm0 220h160v-160H400v160ZM180-400h160v-160H180v160Zm440 0h160v-160H620v160ZM180-180h160v-160H180v160Zm440 0h160v-160H620v160Z\"/>\n",
              "  </svg>\n",
              "    </button>\n",
              "\n",
              "  <style>\n",
              "    .colab-df-container {\n",
              "      display:flex;\n",
              "      gap: 12px;\n",
              "    }\n",
              "\n",
              "    .colab-df-convert {\n",
              "      background-color: #E8F0FE;\n",
              "      border: none;\n",
              "      border-radius: 50%;\n",
              "      cursor: pointer;\n",
              "      display: none;\n",
              "      fill: #1967D2;\n",
              "      height: 32px;\n",
              "      padding: 0 0 0 0;\n",
              "      width: 32px;\n",
              "    }\n",
              "\n",
              "    .colab-df-convert:hover {\n",
              "      background-color: #E2EBFA;\n",
              "      box-shadow: 0px 1px 2px rgba(60, 64, 67, 0.3), 0px 1px 3px 1px rgba(60, 64, 67, 0.15);\n",
              "      fill: #174EA6;\n",
              "    }\n",
              "\n",
              "    .colab-df-buttons div {\n",
              "      margin-bottom: 4px;\n",
              "    }\n",
              "\n",
              "    [theme=dark] .colab-df-convert {\n",
              "      background-color: #3B4455;\n",
              "      fill: #D2E3FC;\n",
              "    }\n",
              "\n",
              "    [theme=dark] .colab-df-convert:hover {\n",
              "      background-color: #434B5C;\n",
              "      box-shadow: 0px 1px 3px 1px rgba(0, 0, 0, 0.15);\n",
              "      filter: drop-shadow(0px 1px 2px rgba(0, 0, 0, 0.3));\n",
              "      fill: #FFFFFF;\n",
              "    }\n",
              "  </style>\n",
              "\n",
              "    <script>\n",
              "      const buttonEl =\n",
              "        document.querySelector('#df-1f853a46-fae3-46e1-841a-b6b5d57a5e6e button.colab-df-convert');\n",
              "      buttonEl.style.display =\n",
              "        google.colab.kernel.accessAllowed ? 'block' : 'none';\n",
              "\n",
              "      async function convertToInteractive(key) {\n",
              "        const element = document.querySelector('#df-1f853a46-fae3-46e1-841a-b6b5d57a5e6e');\n",
              "        const dataTable =\n",
              "          await google.colab.kernel.invokeFunction('convertToInteractive',\n",
              "                                                    [key], {});\n",
              "        if (!dataTable) return;\n",
              "\n",
              "        const docLinkHtml = 'Like what you see? Visit the ' +\n",
              "          '<a target=\"_blank\" href=https://colab.research.google.com/notebooks/data_table.ipynb>data table notebook</a>'\n",
              "          + ' to learn more about interactive tables.';\n",
              "        element.innerHTML = '';\n",
              "        dataTable['output_type'] = 'display_data';\n",
              "        await google.colab.output.renderOutput(dataTable, element);\n",
              "        const docLink = document.createElement('div');\n",
              "        docLink.innerHTML = docLinkHtml;\n",
              "        element.appendChild(docLink);\n",
              "      }\n",
              "    </script>\n",
              "  </div>\n",
              "\n",
              "\n",
              "<div id=\"df-035a53ae-bf25-4391-8092-5a35092d9cd4\">\n",
              "  <button class=\"colab-df-quickchart\" onclick=\"quickchart('df-035a53ae-bf25-4391-8092-5a35092d9cd4')\"\n",
              "            title=\"Suggest charts\"\n",
              "            style=\"display:none;\">\n",
              "\n",
              "<svg xmlns=\"http://www.w3.org/2000/svg\" height=\"24px\"viewBox=\"0 0 24 24\"\n",
              "     width=\"24px\">\n",
              "    <g>\n",
              "        <path d=\"M19 3H5c-1.1 0-2 .9-2 2v14c0 1.1.9 2 2 2h14c1.1 0 2-.9 2-2V5c0-1.1-.9-2-2-2zM9 17H7v-7h2v7zm4 0h-2V7h2v10zm4 0h-2v-4h2v4z\"/>\n",
              "    </g>\n",
              "</svg>\n",
              "  </button>\n",
              "\n",
              "<style>\n",
              "  .colab-df-quickchart {\n",
              "      --bg-color: #E8F0FE;\n",
              "      --fill-color: #1967D2;\n",
              "      --hover-bg-color: #E2EBFA;\n",
              "      --hover-fill-color: #174EA6;\n",
              "      --disabled-fill-color: #AAA;\n",
              "      --disabled-bg-color: #DDD;\n",
              "  }\n",
              "\n",
              "  [theme=dark] .colab-df-quickchart {\n",
              "      --bg-color: #3B4455;\n",
              "      --fill-color: #D2E3FC;\n",
              "      --hover-bg-color: #434B5C;\n",
              "      --hover-fill-color: #FFFFFF;\n",
              "      --disabled-bg-color: #3B4455;\n",
              "      --disabled-fill-color: #666;\n",
              "  }\n",
              "\n",
              "  .colab-df-quickchart {\n",
              "    background-color: var(--bg-color);\n",
              "    border: none;\n",
              "    border-radius: 50%;\n",
              "    cursor: pointer;\n",
              "    display: none;\n",
              "    fill: var(--fill-color);\n",
              "    height: 32px;\n",
              "    padding: 0;\n",
              "    width: 32px;\n",
              "  }\n",
              "\n",
              "  .colab-df-quickchart:hover {\n",
              "    background-color: var(--hover-bg-color);\n",
              "    box-shadow: 0 1px 2px rgba(60, 64, 67, 0.3), 0 1px 3px 1px rgba(60, 64, 67, 0.15);\n",
              "    fill: var(--button-hover-fill-color);\n",
              "  }\n",
              "\n",
              "  .colab-df-quickchart-complete:disabled,\n",
              "  .colab-df-quickchart-complete:disabled:hover {\n",
              "    background-color: var(--disabled-bg-color);\n",
              "    fill: var(--disabled-fill-color);\n",
              "    box-shadow: none;\n",
              "  }\n",
              "\n",
              "  .colab-df-spinner {\n",
              "    border: 2px solid var(--fill-color);\n",
              "    border-color: transparent;\n",
              "    border-bottom-color: var(--fill-color);\n",
              "    animation:\n",
              "      spin 1s steps(1) infinite;\n",
              "  }\n",
              "\n",
              "  @keyframes spin {\n",
              "    0% {\n",
              "      border-color: transparent;\n",
              "      border-bottom-color: var(--fill-color);\n",
              "      border-left-color: var(--fill-color);\n",
              "    }\n",
              "    20% {\n",
              "      border-color: transparent;\n",
              "      border-left-color: var(--fill-color);\n",
              "      border-top-color: var(--fill-color);\n",
              "    }\n",
              "    30% {\n",
              "      border-color: transparent;\n",
              "      border-left-color: var(--fill-color);\n",
              "      border-top-color: var(--fill-color);\n",
              "      border-right-color: var(--fill-color);\n",
              "    }\n",
              "    40% {\n",
              "      border-color: transparent;\n",
              "      border-right-color: var(--fill-color);\n",
              "      border-top-color: var(--fill-color);\n",
              "    }\n",
              "    60% {\n",
              "      border-color: transparent;\n",
              "      border-right-color: var(--fill-color);\n",
              "    }\n",
              "    80% {\n",
              "      border-color: transparent;\n",
              "      border-right-color: var(--fill-color);\n",
              "      border-bottom-color: var(--fill-color);\n",
              "    }\n",
              "    90% {\n",
              "      border-color: transparent;\n",
              "      border-bottom-color: var(--fill-color);\n",
              "    }\n",
              "  }\n",
              "</style>\n",
              "\n",
              "  <script>\n",
              "    async function quickchart(key) {\n",
              "      const quickchartButtonEl =\n",
              "        document.querySelector('#' + key + ' button');\n",
              "      quickchartButtonEl.disabled = true;  // To prevent multiple clicks.\n",
              "      quickchartButtonEl.classList.add('colab-df-spinner');\n",
              "      try {\n",
              "        const charts = await google.colab.kernel.invokeFunction(\n",
              "            'suggestCharts', [key], {});\n",
              "      } catch (error) {\n",
              "        console.error('Error during call to suggestCharts:', error);\n",
              "      }\n",
              "      quickchartButtonEl.classList.remove('colab-df-spinner');\n",
              "      quickchartButtonEl.classList.add('colab-df-quickchart-complete');\n",
              "    }\n",
              "    (() => {\n",
              "      let quickchartButtonEl =\n",
              "        document.querySelector('#df-035a53ae-bf25-4391-8092-5a35092d9cd4 button');\n",
              "      quickchartButtonEl.style.display =\n",
              "        google.colab.kernel.accessAllowed ? 'block' : 'none';\n",
              "    })();\n",
              "  </script>\n",
              "</div>\n",
              "\n",
              "  <div id=\"id_8eacde19-532e-4305-ad6a-4ec445e54718\">\n",
              "    <style>\n",
              "      .colab-df-generate {\n",
              "        background-color: #E8F0FE;\n",
              "        border: none;\n",
              "        border-radius: 50%;\n",
              "        cursor: pointer;\n",
              "        display: none;\n",
              "        fill: #1967D2;\n",
              "        height: 32px;\n",
              "        padding: 0 0 0 0;\n",
              "        width: 32px;\n",
              "      }\n",
              "\n",
              "      .colab-df-generate:hover {\n",
              "        background-color: #E2EBFA;\n",
              "        box-shadow: 0px 1px 2px rgba(60, 64, 67, 0.3), 0px 1px 3px 1px rgba(60, 64, 67, 0.15);\n",
              "        fill: #174EA6;\n",
              "      }\n",
              "\n",
              "      [theme=dark] .colab-df-generate {\n",
              "        background-color: #3B4455;\n",
              "        fill: #D2E3FC;\n",
              "      }\n",
              "\n",
              "      [theme=dark] .colab-df-generate:hover {\n",
              "        background-color: #434B5C;\n",
              "        box-shadow: 0px 1px 3px 1px rgba(0, 0, 0, 0.15);\n",
              "        filter: drop-shadow(0px 1px 2px rgba(0, 0, 0, 0.3));\n",
              "        fill: #FFFFFF;\n",
              "      }\n",
              "    </style>\n",
              "    <button class=\"colab-df-generate\" onclick=\"generateWithVariable('df')\"\n",
              "            title=\"Generate code using this dataframe.\"\n",
              "            style=\"display:none;\">\n",
              "\n",
              "  <svg xmlns=\"http://www.w3.org/2000/svg\" height=\"24px\"viewBox=\"0 0 24 24\"\n",
              "       width=\"24px\">\n",
              "    <path d=\"M7,19H8.4L18.45,9,17,7.55,7,17.6ZM5,21V16.75L18.45,3.32a2,2,0,0,1,2.83,0l1.4,1.43a1.91,1.91,0,0,1,.58,1.4,1.91,1.91,0,0,1-.58,1.4L9.25,21ZM18.45,9,17,7.55Zm-12,3A5.31,5.31,0,0,0,4.9,8.1,5.31,5.31,0,0,0,1,6.5,5.31,5.31,0,0,0,4.9,4.9,5.31,5.31,0,0,0,6.5,1,5.31,5.31,0,0,0,8.1,4.9,5.31,5.31,0,0,0,12,6.5,5.46,5.46,0,0,0,6.5,12Z\"/>\n",
              "  </svg>\n",
              "    </button>\n",
              "    <script>\n",
              "      (() => {\n",
              "      const buttonEl =\n",
              "        document.querySelector('#id_8eacde19-532e-4305-ad6a-4ec445e54718 button.colab-df-generate');\n",
              "      buttonEl.style.display =\n",
              "        google.colab.kernel.accessAllowed ? 'block' : 'none';\n",
              "\n",
              "      buttonEl.onclick = () => {\n",
              "        google.colab.notebook.generateWithVariable('df');\n",
              "      }\n",
              "      })();\n",
              "    </script>\n",
              "  </div>\n",
              "\n",
              "    </div>\n",
              "  </div>\n"
            ],
            "application/vnd.google.colaboratory.intrinsic+json": {
              "type": "dataframe",
              "variable_name": "df",
              "summary": "{\n  \"name\": \"df\",\n  \"rows\": 13,\n  \"fields\": [\n    {\n      \"column\": \"Titulo\",\n      \"properties\": {\n        \"dtype\": \"string\",\n        \"num_unique_values\": 13,\n        \"samples\": [\n          \"P\\u00e1gina 12\",\n          \"P\\u00e1gina 10\",\n          \"P\\u00e1gina 1\"\n        ],\n        \"semantic_type\": \"\",\n        \"description\": \"\"\n      }\n    },\n    {\n      \"column\": \"Conteudo\",\n      \"properties\": {\n        \"dtype\": \"string\",\n        \"num_unique_values\": 13,\n        \"samples\": [\n          \"19.6. Os  documen tos supr acitados dever\\u00e3o ser fotoc\\u00f3pias (leg\\u00edv eis e sem rasur as), podendo ser auten\\u0000cadas na Coor dena\\u00e7 \\u00e3o/coordenadoria/N\\u00facleo de\\nRegistros Acad\\u00eamic os do Campus,  para o qual o(a) candida to(a) se inscr eveu, desde que seja apresen tado o documen to original, dispensando , assim, seu\\nregistro em c art\\u00f3rio.\\n19.7. A solicit a\\u00e7\\u00e3o de matr\\u00edcula deve ser feita pelo(a) candida to(a), pessoalmen te, ou ,excepcionalmen te, se esse(a) n\\u00e3o puder compar ecer para efetuar sua\\nsolicit a\\u00e7\\u00e3o de ma tr\\u00edcula, por pr ocur a\\u00e7\\u00e3o par\\u0000cular simples.\\n19.8. O(A) candida to(a) menor de 18 anos dever\\u00e1 ser assis \\u0000do(a) durante a solicit a\\u00e7\\u00e3o de matr\\u00edcula pelo pai, m\\u00e3e ou respons\\u00e1 vel legal, os(as) quais dever\\u00e3o\\napresen tar, no a to da ma tr\\u00edcula, CPF , RG e documen ta\\u00e7\\u00e3o compr obat\\u00f3ria de par entesco.\\n19.8.1. Se, excepcionalmen te, o(a) respons\\u00e1 vel legal n\\u00e3o puder compar ecer para efetuar a matr\\u00edcula, esta poder \\u00e1 ser feita por procur a\\u00e7\\u00e3o par\\u0000cular simples,\\ndispensando assim seu r egistro em c art\\u00f3rio.\\n19.9. Os documen tos compr obat\\u00f3rios apr esen tados pelo(a) c andida to(a) par a o sis tema de r eser va de v agas \\ufb01c am v \\u00e1lidos par a a solicit a\\u00e7\\u00e3o de ma tr\\u00edcula.\\n19.10. O(A) c andida to(a) em pr ogress\\u00e3o par cial n\\u00e3o poder \\u00e1 realiz ar ma tr\\u00edcula.\\n \\n20. DA RE CLASSIFICA \\u00c7\\u00c3O - 2\\u00aa CHAMAD A\\n20.1. Oc orrendo desis t\\u00eancia ou c ancelamen to de ma tr\\u00edcula, os(as) c andida tos(as) n\\u00e3o classi\\ufb01c ados(as) na primeir a chamada poder \\u00e3o ser c onvocados(as).\\n20.1.1 A segunda chamada dar-se-\\u00e1 por meio de edital de convoca\\u00e7\\u00e3o divulg ado no portal\\neletr\\u00f4nic o h\\u0000ps://w ww.ifnmg.edu.br/pr ocessosele \\u0000vocur sossuperior es2023   e no mural do campus para o qual o(a) candida to(a) se inscr eveu, de acordo com o\\ncronogr ama pr evisto.\\n20.2. A matr\\u00edcula dos(as) candida tos(as) convocados(as) na 2\\u00aa e demais chamadas, quando ocorrer, ser\\u00e1 realiz ada pelo campus e divulg ada em seu s\\u00ed\\u0000o\\neletr\\u00f4nic o.\\n \\n21. DAS DISPOSI\\u00c7 \\u00d5ES FINAIS\\n21.1. As ma tr\\u00edculas dos(as) c andida tos(as) classi\\ufb01c ados(as) a tender \\u00e3o \\u00e0s de termina\\u00e7 \\u00f5es leg ais vig entes.\\n21.2. A inscri\\u00e7 \\u00e3o neste Processo Sele\\u0000vo implic a, desde logo, o conhecimen to e a t\\u00e1cita aceit a\\u00e7\\u00e3o das condi\\u00e7 \\u00f5es e normas estabelecidas neste Edital e, ainda, na\\nLegisla\\u00e7 \\u00e3o E ducacional Br asileir a, sobr e as quais o(a) c andida to(a) n\\u00e3o poder \\u00e1 aleg ar desc onhecimen to, ainda que a inscri\\u00e7 \\u00e3o tenha sido f eita por t erceiros.\\n21.3. O IFNMG n\\u00e3o se responsabiliz ar\\u00e1 por pedidos de inscri\\u00e7 \\u00e3o n\\u00e3o recebidos por fatores de ordem t\\u00e9cnic a que prejudiquem os comput ador es ou\\nimpossibilit em a tr ansfer\\u00eancia dos dados, f alhas de c omunic a\\u00e7\\u00e3o ou c onges\\u0000onamen to das linhas de c omunic a\\u00e7\\u00e3o.\\n21.4. Ser\\u00e1 eliminado(a), a qualquer tempo , o(a) candida to(a) que u\\u0000liz ar meios fraudulen tos e condut a inde vida na inscri\\u00e7 \\u00e3o e na matr\\u00edcula ou, ainda, pra\\u0000car\\natos contra as demais normas c on\\u0000das nes te Edital.\\n21.5. O IFNMG divulg ar\\u00e1, quando necess\\u00e1rio , normas complemen tares e avisos especiais, dispon\\u00edv eis no port al\\neletr\\u00f4nic o h\\u0000ps://w ww.ifnmg.edu.br/pr ocessosele \\u0000vocur sossuperior es2023 .\\n21.6. O IFNMG reser va-se o direito de cancelar a realiz a\\u00e7\\u00e3o do Processo Sele\\u0000vo de qualquer curso, caso o n\\u00famer o de candida tos(as) seja inferior a 70% do\\nn\\u00famer o de v agas of erecidas.\\n21.7. O IFNMG reserva-se o direito de convocar candida tos(as), seguindo a lista de classi\\ufb01c a\\u00e7\\u00e3o, caso o(a) aluno(a) matriculado(a) n\\u00e3o compar e\\u00e7a aos primeir os\\n10 (de z) dias le \\u0000vos sem apr esen ta\\u00e7\\u00e3o, por escrit o, de jus \\u0000\\ufb01ca\\u0000va plaus\\u00edv el , ao campus  em que se ma triculou.\\n21.8. O IFNMG, no uso de sua autonomia did\\u00e1 \\u0000co-pedag \\u00f3gica e adminis tra\\u0000va, acolher \\u00e1, em seus cursos, os(as) candida tos(as) classi\\ufb01c ados(as) neste Processo\\nSele\\u0000vo, devidamen te matriculados(as), podendo , no decorrer do per\\u00edodo de integraliza\\u00e7\\u00e3o de cada curso, adequar curr\\u00edculos e calend\\u00e1rios, ampliar ou\\nrestringir t empos de dur a\\u00e7\\u00e3o.\\n21.9. Os r esult ados ser \\u00e3o v\\u00e1lidos unic amen te par a este Processo Sele \\u0000vo.\\n21.10. Aos(\\u00c0s) alunos(as) ma triculados(as), o IFNMG n\\u00e3o assegur a a c oncess\\u00e3o de tr ansport e.\\n21.11. \\u00c9 de respon sabilidade exclusiv a do(a) candida to(a) informar -se acer ca de editais, normas complemen tares, avisos, port arias e chamadas o\\ufb01ciais do\\nProcesso Sele \\u0000vo e de t odas as e tapas da c on\\ufb01rma\\u00e7 \\u00e3o de v aga.\\n21.12. O(A) candida to(a) interessado(a) em interpor recur so, apresen tando  impugna\\u00e7 \\u00e3o para algum item do Edital, poder \\u00e1 faz\\u00ea-lo em data prevista no\\nsubit em 1.1. CRONOGRAMA , enviando  o ques \\u0000onamen to, devidamen te fundamen tado, para o e-mail  cpsc@ifnmg.edu.br  , at\\u00e9 as 17:00 h do dia 01 de\\ndezembr o de 2022 , registrando , no enc aminhamen to, seu nome, dados de R G e CPF e a fundamen ta\\u00e7\\u00e3o da impugna\\u00e7 \\u00e3o.\\n21.13. O candida to que desejar solicit ar o cancelamen to/exclus\\u00e3o da inscri\\u00e7 \\u00e3o errada dever\\u00e1 fazer a solicit a\\u00e7\\u00e3o junto ao IBGP atrav\\u00e9s do e-\\nmail  ves\\u0000bular@ibgp.or g.br  informando nome c omple to, CPF , cur so e c ampus par a o qual se inscr eveu\\n21.14. Inc orpor ar-se-\\u00e3o a es te Edital, par a todos os e feitos, quaisquer edit ais c omplemen tares que v enham a ser public ados no port al ele tr\\u00f4nic o do IFNMG.\\n21.15. Os c asos omissos ser \\u00e3o resolvidos pela Coor dena\\u00e7 \\u00e3o de Pr ocessos Sele \\u0000vos e Concur sos P\\u00fablic os \\u2013 CPSC.\\n \\nANEX OS DE STE EDIT AL:\\nAnexo I - Hor \\u00e1rio de A tendimen to do Pr otocolo;\\nAnexo II - Ficha de Iden \\u0000\\ufb01ca\\u00e7\\u00e3o;\\nAnexo III - Aut odeclar a\\u00e7\\u00e3o \\u00c9 tnico-Racial (pr etos(as) e par dos(as));\\nAnexo IV - Documen tos Exigidos P ara o Sis tema de R eser va de V agas Para Egr esso(a) de Esc ola P\\u00fablic a;\\nAnexo V - Declar a\\u00e7\\u00e3o de P ertencimen to \\u00c9tnico (ind\\u00edg enas);\\nAnexo VI - Quadr o de iden \\u0000\\ufb01ca\\u00e7\\u00e3o familiar;\\nAnexo VII - T abela de disciplinas e pesos.\\n \\nassinado ele tronic amen te\\nJoaquina Apar ecida Nobr e da Silv a\\nReitora\\n \\n \\n \\n \",\n          \"14.4.1. Caso necess\\u00e1rio , por interesse do IFNMG, ser\\u00e1 realiz ada classi\\ufb01c a\\u00e7\\u00e3o adicional, acima do quan \\u0000ta\\u0000vo de vagas ofertadas para cada curso, obedecendo- se\\nrigorosamen te a or dem de classi\\ufb01c a\\u00e7\\u00e3o dos(as) c andida tos(as), inclusiv e dos(as) que c oncorreram par a reser va de v agas. \\n14.5. A classi\\ufb01c a\\u00e7\\u00e3o dos(as) c andida tos(as) somen te ter\\u00e1 validade par a este Processo Sele \\u0000vo.\\n \\n \\n15. DOS PR OCEDIMENT OS P ARA FINS DE HETER OIDENTIFICA \\u00c7\\u00c3O\\n \\n15.1. Cons idera-se procedimen to de heteroiden \\u0000\\ufb01ca\\u00e7\\u00e3o o processo compleme ntar a autodeclar a\\u00e7\\u00e3o dos(as) candida tos(as) negr os(as) (pretos(as) e pardos(as))\\ne que r a\\u0000\\ufb01ca, por t erceiros, a sua c ondi\\u00e7 \\u00e3o aut odeclar ada.\\n15.2. No ato da inscri\\u00e7\\u00e3o deste processo sele\\u0000vo, os(as) candida tos(as) autodec larados(as) negr os(as) (pretos(as) e pardos(as)), dever\\u00e3o informar e-mail v\\u00e1lido e\\napto ao recebimen to de mensag ens, que dever\\u00e1 ser u\\u0000liz ado para sua convoca\\u00e7\\u00e3o pela Comiss\\u00e3o de Heteroiden \\u0000fca\\u00e7\\u00e3o, caso sejam classi\\ufb01c ados(as) nesta\\nmodalidade de r eser va de v agas.\\n15.3. O(A)  candida to(a) autodeclar ado(a ) negr o(a) dever\\u00e1 encaminhar sua autodeclar a\\u00e7\\u00e3o (Ane xo III) para a Comiss\\u00e3o de Heteroiden \\u0000\\ufb01ca\\u00e7\\u00e3o do campus  em que\\nfoi classi\\ufb01c ado(a), c onforme pr ocedimen tos pr evistos nos edit ais de chamadas par a ma tr\\u00edculas, que ser \\u00e3o public ados, pos teriormen te, pelos campi do IFNMG. \\n15.3.1. A autodecla ra\\u00e7\\u00e3o dos candida tos pretos e pardos, ser\\u00e1 ra\\u0000\\ufb01cada median te procedimen to de heteroiden \\u0000\\ufb01ca\\u00e7\\u00e3o realiz ado por comiss\\u00e3o  respons\\u00e1 vel\\npela ra\\u0000\\ufb01ca\\u00e7\\u00e3o das informa\\u00e7 \\u00f5es prestadas por esses candida tos. A comiss\\u00e3o ser\\u00e1 compos ta por 3 membr os \\u0000tular es e 3 membr os suplen tes, em cada\\ncampus/unidade, ins \\u0000tu\\u00edda especi\\ufb01c amen te par a este \\ufb01m, c onforme disp\\u00f5e a R esolu\\u00e7 \\u00e3o C ONSUP /IFNMG N\\u00b0 148, de 23 de mar \\u00e7o de 2021.\\n15.4. Caso seja nece ss\\u00e1rio , por decis\\u00e3o do IFNMG, poder \\u00e1 ser convocado, para o procedimen to de heteroiden \\u0000\\ufb01ca\\u00e7\\u00e3o, um quan \\u0000ta\\u0000vo de candida tos(as) acim a\\ndo total de vagas estabelecidas para pretos(as) e pardos(as), e essa informa\\u00e7 \\u00e3o constar\\u00e1 nos editais de chamada para matr\\u00edculas, que ser\\u00e3o\\n public ados pelos campi do IFNMG.\\n15.5. Os candida tos autodeclar ados pretos e pardos, classi\\ufb01c ados dentro do limit e de vagas para as reser vas VRRI-PPI, VRRI-PPI/PCD , VRRS-PPI e VRRS-PPI/PC D,\\nou em lista de esper a, quando convocados pelo campus/unidade para as referidas reser vas,  dever\\u00e3o se subme ter ao processo de heteroiden \\u0000\\ufb01ca\\u00e7\\u00e3o  para\\nra\\u0000\\ufb01ca\\u00e7\\u00e3o da aut odeclar a\\u00e7\\u00e3o \\u00e9 tnico-racial, an tes da ma tr\\u00edcula. Os pr ocedimen tos adot ados par a ra\\u0000\\ufb01ca\\u00e7\\u00e3o da aut odeclar a\\u00e7\\u00e3o ser \\u00e3o pr esenciais.\\n15.5.1. Os(As) candida tos(as) autodeclar ados(as) pretos(as) e pardos(as) exceden tes, quando convocados(as) para matr\\u00edcula para preencher em as vagas dessas\\nreferidas cotas, tamb\\u00e9m dever\\u00e3o se subme ter ao processo de heteroiden \\u0000\\ufb01ca\\u00e7\\u00e3o. Os proced imen tos adot ados para ra\\u0000\\ufb01ca\\u00e7\\u00e3o da autodeclar a\\u00e7\\u00e3o ser\\u00e3o\\npresenciais.\\n15.5.2. Os(As) candida tos(as) autodeclar ados(as) pretos(as) e pardos(as) classi\\ufb01 cados(as) dentro do limit e de vagas da ampla concorr\\u00eancia \\ufb01cam isentos(as) do\\nprocesso de he teroiden \\u0000\\ufb01ca\\u00e7\\u00e3o par a estas vagas.\\n15.6. Para ra\\u0000\\ufb01car as informa\\u00e7 \\u00f5es sobr e ra\\u00e7a, cor e etnia prestadas pelo(a) candida to(a) que se autodeclar a preto(a) ou pardo(a), a Comiss\\u00e3o de\\nHeteroiden \\u0000\\ufb01ca\\u00e7\\u00e3o u\\u0000liz ar-se-\\u00e1, \\u00fanic a e e xclusiv amen te, do f en\\u00f3\\u0000po , como base par a an\\u00e1lise e emiss\\u00e3o do seu par ecer.\\n15.6.1 O pert encimen to racial N\\u00c3O se refere \\u00e0 ascend\\u00eancia do candida to, ou seja, a seus pais, av\\u00f3s ou bisav\\u00f3s, mas \\u00e0s caracter\\u00eds\\u0000cas \\u0000sicas (fen\\u00f3\\u0000po) do\\npr\\u00f3prio c andida to.\\n15.6.2 O fen\\u00f3\\u0000po \\u00e9 de\\ufb01nido como o conjun to de caracter\\u00eds\\u0000cas do indiv\\u00edduo , como exemplo , a cor da pele, a textura do cabelo e os forma tos do rosto, l\\u00e1bios e\\nnariz, que, combinados ou n\\u00e3o, permi\\u0000r \\u00e3o ra\\u0000\\ufb01car ou invalidar a autodeclar a\\u00e7\\u00e3o, sendo consider adas as caracter\\u00eds\\u0000cas feno\\u0000pic as do(a) candida to(a) no ato da\\nrealiz a\\u00e7\\u00e3o do pr ocedimen to de he teroiden \\u0000\\ufb01ca\\u00e7\\u00e3o.\\n15.7. O pr ocedimen to de a feri\\u00e7\\u00e3o poder \\u00e1 realiz ar registro de \\ufb01lmag em, o qual ser \\u00e1 u\\u0000liz ado na an\\u00e1lise de e ventuais r ecur sos in terpos tos.\\n15.8.  N\\u00e3o ser\\u00e3o consider ados, para os \\ufb01ns de heteroiden \\u0000\\ufb01ca\\u00e7\\u00e3o quaisquer registros (civis ou milit ares) ou documen tos pret\\u00e9ritos (anterior es) eventualmen te\\napresen tados pelo(a) candida to(a), inclusiv e imag em e cer\\u0000d\\u00f5es referentes \\u00e0 con\\ufb01rma\\u00e7 \\u00e3o em procedimen tos de heteroiden \\u0000\\ufb01ca\\u00e7\\u00e3o realiz ados em processos\\nsele\\u0000vos ou concur sos p\\u00fablic os feder ais, estaduais, distritais e municipais nem de  quaisquer outr as ins\\u0000tui\\u00e7 \\u00f5es (p\\u00fablic as ou privadas), inclusiv e imag ens,\\ndeclar a\\u00e7\\u00f5es ou cer\\u0000d\\u00f5es de qualquer na tureza.\\n15.9. \\u00c9 v edado \\u00e0 Comiss\\u00e3o de He teroiden \\u0000\\ufb01ca\\u00e7\\u00e3o deliber ar na pr esen\\u00e7 a dos(as) c andida tos(as).\\n15.10. O (A) candida to(a) classi\\ufb01c ado(a)  dentro das vagas de cotas de pretos(as) e pardos(as) que n\\u00e3o se subme ter ao procedimen to de heteroiden \\u0000\\ufb01ca\\u00e7\\u00e3o ter\\u00e1\\nsua ma tr\\u00edcula inde ferida par a a r eser va de v agas a que se inscr eveu.\\n15.11. \\u00c9 responsabil idade do(a) candida to(a) observar e compar ecer ao ato de veri\\ufb01c a\\u00e7\\u00e3o, no local, data e hor\\u00e1rio estabelecidos, cujas informa\\u00e7 \\u00f5es, bem como\\nnormas e pr ocedimen tos complemen tares, ser \\u00e3o public adas em edit ais pr \\u00f3prios dos campi do IFNMG (SUBITEM 1.1 CR ONOGRAMA).\\n15.12. Antes de efe\\u0000var a matr\\u00edcula online ou presencial, de acordo com os procedimen tos adot ados pelo campus/unidade, previstos em seus editais de\\nmatr\\u00edculas, os(as) candida tos(as) classi\\ufb01c ados(as) dentro das vagas de cotas de pretos(as) e pardos(as) dever\\u00e3o se apresen tar de forma pr esencial  \\u00e0 comiss\\u00e3o de\\nheteroiden \\u0000\\ufb01ca\\u00e7\\u00e3o.\\n15.12.1 Os(As) candida tos(as) dever\\u00e3o estar munidos(as) de documen to de iden \\u0000\\ufb01ca\\u00e7\\u00e3o o\\ufb01cial com foto, original e c\\u00f3pia desse documen to, que ser\\u00e1 entregue \\u00e0\\nComiss\\u00e3o de He teroiden \\u0000\\ufb01ca\\u00e7\\u00e3o.\\n15.12.2. As comiss\\u00f5es de heteroiden \\u0000\\ufb01ca\\u00e7\\u00e3o atuar\\u00e3o ap\\u00f3s a public a\\u00e7\\u00e3o do result ado \\ufb01nal deste processo sele\\u0000vo, conforme previsto no item 1.1 (cronogr ama),\\ntendo o cronogr ama pr\\u00f3prio de cada campus  para a realiz a\\u00e7\\u00e3o dos seus procedimen tos, dispon\\u00edv eis para consult a no ender e\\u00e7o\\neletr\\u00f4nic o  h\\u0000ps://w ww.ifnmg.edu.br/pr ocessosele \\u0000vocur sossuperior es2023 .\\n15.13. Cada c andida to(a) ser \\u00e1 en trevistado(a) individualmen te pela Comiss\\u00e3o de He teroiden \\u0000\\ufb01ca\\u00e7\\u00e3o respons\\u00e1 vel pela v alida\\u00e7 \\u00e3o de sua aut odeclar a\\u00e7\\u00e3o.\\n15.14. O(A) candida to(a) preencher \\u00e1 e assinar \\u00e1 formul\\u00e1rio pr\\u00f3prio , que ra\\u0000\\ufb01car\\u00e1 as informa\\u00e7 \\u00f5es prestadas na inscri\\u00e7 \\u00e3o como candida to(a) preto(a)\\nou pardo(a), e decla rar\\u00e1 estar ciente de que a presta\\u00e7\\u00e3o de informa\\u00e7 \\u00f5es falsas rela\\u0000vas \\u00e0s exig\\u00eancias de autodeclar a\\u00e7\\u00e3o implic ar\\u00e1 na elimina\\u00e7 \\u00e3o no processo\\nsele\\u0000vo, al\\u00e9m das demais implic a\\u00e7\\u00f5es leg ais . \\n \\n16. D A ELIMINA \\u00c7\\u00c3O DO PR OCESSO SELETIV O NA ET APA DO PR OCEDIMENT O DE HETER OIDENTIFICA \\u00c7\\u00c3O\\n \\n16.1 Ser \\u00e1 eliminado(a) do Pr ocesso Sele \\u0000vo o(a) c andida to(a) que:\\nI. se r ecusar a ser \\ufb01lmado(a);\\nII. pr estar declar a\\u00e7\\u00e3o falsa.\\n16.2 A qualquer tempo, poder -se-\\u00e1 anular a inscri\\u00e7 \\u00e3o e a matr\\u00edcula do(a) candidato(a), desde que veri\\ufb01c ada qualquer falsidade nas declar a\\u00e7\\u00f5es e/ou qualquer\\nirregularidade nos documen tos apr esen tados.\\n16.3 Se for detectada falsidade na autodeclar a\\u00e7\\u00e3o de pretos(as) e pardos(as), conforme disp\\u00f5e a Resolu\\u00e7 \\u00e3o CONSUP / IFNMG n\\u00ba 148, de 23 de mar\\u00e7o de 2021,\\no(a) c andida to(a) es tar\\u00e1 sujeit o, al\\u00e9m da elimina\\u00e7 \\u00e3o des te Processo Sele \\u0000vo, \\u00e0s penalidades leg ais.\",\n          \"Minis t\\u00e9rio da E duca\\u00e7\\u00e3o\\nSecr etaria de E duca\\u00e7\\u00e3o Pr o\\ufb01ssional e T ecnol\\u00f3gic a \\nIns\\u0000tut o Feder al do Nort e de Minas Ger ais - R eitoria\\nMINUTA DE EDITAL\\n \\nMinis t\\u00e9rio da E duca\\u00e7\\u00e3o\\nSecr etaria de E duca\\u00e7\\u00e3o Pr o\\ufb01ssional e T ecnol\\u00f3gic a \\nIns\\u0000tut o Feder al do Nort e de Minas Ger ais - R eitoria\\nEDIT AL N \\u00ba 474 , 30 DE NO VEMBR O DE 2022\\nPROCESSO SELETIV O 01/2023 - Cur sos Superior es\\n \\nA REIT ORA DO INSTITUT O FEDERAL DE EDUCA \\u00c7\\u00c3O, CI\\u00caNCIA E TECNOL OGIA DO NOR TE DE MINAS GERAIS - IFNMG , no uso das atribui\\u00e7 \\u00f5es que lhe foram\\nconferidas pelo Decr eto Presidencial de 4 de dezembr o de 2020, public ado no Di\\u00e1rio O\\ufb01cial da Uni\\u00e3o de 7 de dezembr o de 2020, torna p\\u00fablic o o presen te Edital,\\ncontendo as normas referentes ao processo sele\\u0000vo para ingresso nos CUR SOS DE N\\u00cdVEL SUPERIOR  do IFNMG, 1\\u00ba semes tre le\\u0000vo de 2023, com as\\ncaracter\\u00eds\\u0000cas que se seguem:\\n \\n1. CR ONOGRAMA , HABILIT A\\u00c7\\u00d5ES E V AGAS\\n1.1. CR ONOGRAMA\\n \\nETAPA(S) PER\\u00cdODO(S)\\nPublica\\u00e7\\u00e3o do Edital do Processo Sele\\u0000vo 30 de novembro de 2022\\nImpugna\\u00e7\\u00e3o contra o Edital 01 de dezembro de 2022 (at\\u00e9 as 17 horas - hor\\u00e1rio o\\ufb01cial de Bras\\u00edlia )\\nResultado contra impugna\\u00e7\\u00e3o do Edital 02 de dezembro de 2022\\nPer\\u00edodo de Inscri\\u00e7\\u00f5es 02 de dezembro de 2022 (\\u00e0s 09:00 h) a 05 de fevereiro de 2023 (at\\u00e9 as 17:00 h)\\nDivulga\\u00e7\\u00e3o da lista preliminar de candidatos(as) inscritos(as) 07 de fevereiro de 2023\\nInterposi\\u00e7\\u00e3o de recursos contra a lista preliminar de candidatos(as) inscritos(as)  07 a 08 de fevereiro 2023 (at\\u00e9 as 17 horas - hor\\u00e1rio o\\ufb01cial de Bras\\u00edlia)\\nDivulga\\u00e7\\u00e3o do resultado dos(as) candidatos(as) inscritos(as) ap\\u00f3s recurso 10 de fevereiro de 2023\\nPublica\\u00e7\\u00e3o do Resultado Preliminar do Processo Sele\\u0000vo 10 de fevereiro de 2023\\nInterposi\\u00e7\\u00e3o de Recursos Contra o Resultado Preliminar do Processo Sele\\u0000vo 11 a 13 de fevereiro de 2023 (at\\u00e9 as 17 horas - hor\\u00e1rio o\\ufb01cial de Bras\\u00edlia)\\nResultado Final do Processo 15 de fevereiro de 2023\\nPublica\\u00e7\\u00e3o de Editais de Matr\\u00edculas *\\n(Procedimentos de Heteroiden\\u0000\\ufb01ca\\u00e7\\u00e3o e Matr\\u00edculas)\\nh\\u0000ps://www.ifnmg.edu.br/processosele\\u0000vocursossuperiores2023A par\\u0000r de 16 de fevereiro de 2023 (ap\\u00f3s publica\\u00e7\\u00e3o do resultado \\ufb01nal)\\n \\n* Os camp i/unidades do IFNMG public ar\\u00e3o, a par\\u0000r do dia 16 de fevereiro de 2023 , editais de convoca\\u00e7\\u00e3o para matr\\u00edculas dos candida tos(os) classi\\ufb01c ados(as)\\nneste processo sele\\u0000vo, nos quais estar\\u00e3o previstos os cronogr amas para os procedimen tos de heteroiden \\u0000\\ufb01ca\\u00e7\\u00e3o aos(\\u00e0s) autodeclar ados(as) negr os(as)\\n(pretos(as) e pardos(os)), bem como as etapas de matr\\u00edculas, para todos(as) candida tos(as). \\u00c9 de inteira responsabilidade do(a) candida to(a) acessar pelo\\nender e\\u00e7o h\\u0000ps://w ww.ifnmg.edu.br/pr ocessosele \\u0000vocur sossuperior es2023  a p\\u00e1gina espec\\u00ed\\ufb01c a do campus/unidade  ao qual concorreu, para acompanhar todas\\nas public a\\u00e7\\u00f5es e es tar in formado(a) acer ca de t odos os pr ocedimen tos.\\n \\n1.1.1. Este cronogr ama poder \\u00e1 sofrer altera\\u00e7\\u00f5es e, caso isso ocorra, haver\\u00e1 divulg a\\u00e7\\u00e3o pr\\u00e9via no s\\u00ed\\u0000os eletr\\u00f4nic os dispon\\u00edv eis\\nem: h\\u0000p://w ww.ibgpc oncur so.com.br/   e  h\\u0000ps://w ww.ifnmg.edu.br/pr ocessosele \\u0000vocur sossuperior es2023\\n1.2. Cursos Superior es de Gr adua\\u00e7 \\u00e3o (ensino superior par a quem j\\u00e1 c oncluiu o Ensino M\\u00e9dio).\\n1.2.1.  As vagas s\\u00e3o par a os c ampi do IFNMG, c onforme Quadr o de V agas no subit em 1.3.\\n1.3. QU ADR O DE V AGAS:\\n \\n \\nCAMPUS ALMENARA\\n \\nC\\u00f3digoCursos\\nsuperioresAutoriza\\u00e7\\u00e3o /\\nReconhecimento:Turno Dura\\u00e7\\u00e3oVagas:\\nampla\\nconcorr\\u00eanciaVagas:\\nReservadas\\nPcD\\u00b9Vagas:\\nEFA17Vagas reservadas: egresso de escola p\\u00fablica\\u00b2\\n \\n \\nTOTAL\\nDE\\nVAGASRenda \\u2264 1,5 s.m.\\u00b3 (VRRI) Renda > 1,5 s.m.10 (VRRS)\\nVRRI \\u2013 PPI4VRRI \\u2013\\nDemais\\nvagas 7VRRS \\u2013 PPI 11VRRS \\u2013 Demais\\nvagas 14\\nDemais\\nvagas\\nVRRI-\\nPPI 5VRRI\\n-PPI -\\nPcD 6VRRI\\nDemais\\nvagas 8VRRI\\n-\\nPcD9Demais\\nvagas\\nVRRS-\\nPPI 12VRRS -\\nPPI -\\nPcD 13VRRS\\nDemais\\nvagas 15VRRS\\n-\\nPcD16\\n501Engenharia\\nAgron\\u00f4micaResolu\\u00e7\\u00e3o CS N\\u00ba\\n17/2014Integral\\n(Diurno)5 anos 8 1 1 3 0 2 0 3 0 2 0 20\\n502An\\u00e1lise e\\nDesenvolvimento\\nde SistemasResolu\\u00e7\\u00e3o CS N\\u00ba\\n01/2013Noturno3 anos 11 1 1 4 0 3 0 4 0 3 0 27\\n503Processos\\nGerenciaisResolu\\u00e7\\u00e3o CS N\\u00ba\\n13/2015Noturno2,5\\nanos13 1 1 5 0 3 0 4 0 3 0 30\\n \\n \"\n        ],\n        \"semantic_type\": \"\",\n        \"description\": \"\"\n      }\n    },\n    {\n      \"column\": \"Embeddings\",\n      \"properties\": {\n        \"dtype\": \"object\",\n        \"semantic_type\": \"\",\n        \"description\": \"\"\n      }\n    }\n  ]\n}"
            }
          },
          "metadata": {},
          "execution_count": 33
        }
      ]
    },
    {
      "cell_type": "markdown",
      "source": [
        "# Interagindo com usuário através de chat para saber o quais informações ele deseja a partir do edital"
      ],
      "metadata": {
        "id": "7BFPRWY7Wrvl"
      }
    },
    {
      "cell_type": "code",
      "source": [
        "chat = model2.start_chat(history=[])\n",
        "#response = chat.send_message(prompt)\n",
        "#to_markdown(response.text)"
      ],
      "metadata": {
        "collapsed": true,
        "id": "Hc_nQJKcJ5PZ"
      },
      "execution_count": 34,
      "outputs": []
    },
    {
      "cell_type": "code",
      "source": [
        "# Consulta\n",
        "# Exemplo: \"Qual é o período de inscrições?\"\n",
        "prompt = input(\"Pergunta alguma coisa sobre o edital : \")\n",
        "\n",
        "trecho = gerar_e_buscar_consulta(prompt, df, model)\n",
        "# Prompt para reescrita\n",
        "prompt2 = f\"Considere o texto: {trecho} e mostre somentea resposta sucinta da seguinte pergunta: {prompt}\"\n",
        "response = chat.send_message(prompt2)\n",
        "#print(response)\n",
        "print(\"Resposta: \\n\")\n",
        "\n",
        "to_markdown(response.text)\n"
      ],
      "metadata": {
        "colab": {
          "base_uri": "https://localhost:8080/",
          "height": 114
        },
        "collapsed": true,
        "id": "RcW6KJX09jH0",
        "outputId": "fee43fa3-f6c7-4e83-d7c9-f11b24b39119"
      },
      "execution_count": 53,
      "outputs": [
        {
          "output_type": "stream",
          "name": "stdout",
          "text": [
            "Pergunta alguma coisa sobre o edital : Qual é o período de inscrições?\n",
            "Resposta: \n",
            "\n"
          ]
        },
        {
          "output_type": "execute_result",
          "data": {
            "text/plain": [
              "<IPython.core.display.Markdown object>"
            ],
            "text/markdown": "> 02 de dezembro de 2022 (às 09:00 h) a 05 de fevereiro de 2023 (até as 17:00 h)"
          },
          "metadata": {},
          "execution_count": 53
        }
      ]
    }
  ]
}